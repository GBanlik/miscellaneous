{
 "cells": [
  {
   "cell_type": "markdown",
   "metadata": {},
   "source": [
    "## Popularity Model\n",
    "\n",
    "Note: this notebook must be run in a Linux environment. In our case, using **WSL**."
   ]
  },
  {
   "cell_type": "code",
   "execution_count": 106,
   "metadata": {},
   "outputs": [],
   "source": [
    "import turicreate as tc\n",
    "import numpy as np\n",
    "import pandas as pd\n",
    "\n",
    "from sklearn import metrics"
   ]
  },
  {
   "cell_type": "code",
   "execution_count": 57,
   "metadata": {
    "scrolled": true
   },
   "outputs": [],
   "source": [
    "interactions = tc.SFrame.read_csv('data_clean_recommendation.csv', verbose= False);"
   ]
  },
  {
   "cell_type": "code",
   "execution_count": 104,
   "metadata": {
    "scrolled": true
   },
   "outputs": [],
   "source": [
    "def compute_auc_at_k(precision_at_k: float, recall_at_k:float) -> float:\n",
    "    '''\n",
    "        Computes the AUC@k using the provided precision_at_k and recall_at_k\n",
    "    '''\n",
    "    sorted_idx = recall_at_k.argsort()\n",
    "    recall_sorted = recall_at_k[sorted_idx]\n",
    "    sorted_idx = precision_at_k.argsort()\n",
    "    precision_sorted = precision_at_k[sorted_idx]\n",
    "\n",
    "    auc_at_k = np.round(metrics.auc(precision_sorted, recall_sorted), decimals=2)\n",
    "    \n",
    "    return auc_at_k"
   ]
  },
  {
   "cell_type": "markdown",
   "metadata": {},
   "source": [
    "### Create train and test subsets"
   ]
  },
  {
   "cell_type": "code",
   "execution_count": 7,
   "metadata": {},
   "outputs": [],
   "source": [
    "interactions_main = interactions[['cac', 'product_code', 'volume_primary_units']]\n",
    "training_data, test_data = tc.recommender.util.random_split_by_user(interactions_main, 'cac', 'product_code')"
   ]
  },
  {
   "cell_type": "markdown",
   "metadata": {},
   "source": [
    "# Modeling\n",
    "\n",
    "### Popularity Model"
   ]
  },
  {
   "cell_type": "code",
   "execution_count": 8,
   "metadata": {
    "scrolled": true
   },
   "outputs": [
    {
     "data": {
      "text/html": [
       "<pre>Warning: Column 'volume_primary_units' ignored.</pre>"
      ],
      "text/plain": [
       "Warning: Column 'volume_primary_units' ignored."
      ]
     },
     "metadata": {},
     "output_type": "display_data"
    },
    {
     "data": {
      "text/html": [
       "<pre> To use one of these as a rating column, specify the column name to be used as target volume_primary_units\" and use a method that allows the use of a target.</pre>"
      ],
      "text/plain": [
       " To use one of these as a rating column, specify the column name to be used as target volume_primary_units\" and use a method that allows the use of a target."
      ]
     },
     "metadata": {},
     "output_type": "display_data"
    },
    {
     "data": {
      "text/html": [
       "<pre>Preparing data set.</pre>"
      ],
      "text/plain": [
       "Preparing data set."
      ]
     },
     "metadata": {},
     "output_type": "display_data"
    },
    {
     "data": {
      "text/html": [
       "<pre>    Data has 4534909 observations with 8295 users and 48641 items.</pre>"
      ],
      "text/plain": [
       "    Data has 4534909 observations with 8295 users and 48641 items."
      ]
     },
     "metadata": {},
     "output_type": "display_data"
    },
    {
     "data": {
      "text/html": [
       "<pre>    Data prepared in: 1.93675s</pre>"
      ],
      "text/plain": [
       "    Data prepared in: 1.93675s"
      ]
     },
     "metadata": {},
     "output_type": "display_data"
    },
    {
     "data": {
      "text/html": [
       "<pre>4534909 observations to process; with 48641 unique items.</pre>"
      ],
      "text/plain": [
       "4534909 observations to process; with 48641 unique items."
      ]
     },
     "metadata": {},
     "output_type": "display_data"
    }
   ],
   "source": [
    "# https://medium.com/@acalamea/introduction-to-product-recommender-with-apples-turi-create-7f9f02fd0063\n",
    "popularity_model = tc.recommender.popularity_recommender.create(training_data,\n",
    "                                        user_id='cac',\n",
    "                                        item_id='product_code')"
   ]
  },
  {
   "cell_type": "markdown",
   "metadata": {},
   "source": [
    "Compute MAP@k using 1, 5, 10 and 15 for k"
   ]
  },
  {
   "cell_type": "code",
   "execution_count": 12,
   "metadata": {
    "scrolled": true
   },
   "outputs": [
    {
     "name": "stderr",
     "output_type": "stream",
     "text": [
      "WARNING:root:Model trained without a target. Skipping RMSE computation.\n"
     ]
    },
    {
     "name": "stdout",
     "output_type": "stream",
     "text": [
      "\n",
      "Precision and recall summary statistics by cutoff\n",
      "+--------+----------------------+------------------------+\n",
      "| cutoff |    mean_precision    |      mean_recall       |\n",
      "+--------+----------------------+------------------------+\n",
      "|   1    | 0.01548387096774194  | 5.2714209114485375e-05 |\n",
      "|   5    | 0.010838709677419357 |  0.000925989022967075  |\n",
      "|   10   | 0.009032258064516128 | 0.0027976787293925802  |\n",
      "|   15   | 0.009806451612903224 |  0.004014982131571899  |\n",
      "+--------+----------------------+------------------------+\n",
      "[4 rows x 3 columns]\n",
      "\n"
     ]
    },
    {
     "data": {
      "text/plain": [
       "{'precision_recall_by_user': Columns:\n",
       " \tcac\tstr\n",
       " \tcutoff\tint\n",
       " \tprecision\tfloat\n",
       " \trecall\tfloat\n",
       " \tcount\tint\n",
       " \n",
       " Rows: 3100\n",
       " \n",
       " Data:\n",
       " +--------+--------+-----------+--------+-------+\n",
       " |  cac   | cutoff | precision | recall | count |\n",
       " +--------+--------+-----------+--------+-------+\n",
       " | cac_5  |   1    |    0.0    |  0.0   |  516  |\n",
       " | cac_5  |   5    |    0.0    |  0.0   |  516  |\n",
       " | cac_5  |   10   |    0.0    |  0.0   |  516  |\n",
       " | cac_5  |   15   |    0.0    |  0.0   |  516  |\n",
       " | cac_22 |   1    |    0.0    |  0.0   |  195  |\n",
       " | cac_22 |   5    |    0.0    |  0.0   |  195  |\n",
       " | cac_22 |   10   |    0.0    |  0.0   |  195  |\n",
       " | cac_22 |   15   |    0.0    |  0.0   |  195  |\n",
       " | cac_24 |   1    |    0.0    |  0.0   |  375  |\n",
       " | cac_24 |   5    |    0.0    |  0.0   |  375  |\n",
       " +--------+--------+-----------+--------+-------+\n",
       " [3100 rows x 5 columns]\n",
       " Note: Only the head of the SFrame is printed.\n",
       " You can use print_rows(num_rows=m, num_columns=n) to print more rows and columns.,\n",
       " 'precision_recall_overall': Columns:\n",
       " \tcutoff\tint\n",
       " \tprecision\tfloat\n",
       " \trecall\tfloat\n",
       " \n",
       " Rows: 4\n",
       " \n",
       " Data:\n",
       " +--------+----------------------+------------------------+\n",
       " | cutoff |      precision       |         recall         |\n",
       " +--------+----------------------+------------------------+\n",
       " |   1    | 0.015483870967741935 | 5.2714209114485375e-05 |\n",
       " |   5    | 0.010838709677419355 | 0.0009259890229670746  |\n",
       " |   10   | 0.009032258064516126 | 0.0027976787293925802  |\n",
       " |   15   | 0.009806451612903225 | 0.0040149821315718995  |\n",
       " +--------+----------------------+------------------------+\n",
       " [4 rows x 3 columns]}"
      ]
     },
     "execution_count": 12,
     "metadata": {},
     "output_type": "execute_result"
    }
   ],
   "source": [
    "popularity_model.evaluate(test_data, cutoffs = [1, 5, 10, 15])"
   ]
  },
  {
   "cell_type": "markdown",
   "metadata": {},
   "source": [
    "## Popularity Model - Profitability"
   ]
  },
  {
   "cell_type": "code",
   "execution_count": 107,
   "metadata": {
    "scrolled": true
   },
   "outputs": [
    {
     "name": "stderr",
     "output_type": "stream",
     "text": [
      "WARNING:root:Model trained without a target. Skipping RMSE computation.\n"
     ]
    },
    {
     "name": "stdout",
     "output_type": "stream",
     "text": [
      "AUC@ 1 :  0.0\n",
      "MAP@ 1 :  0.015483870967741935\n",
      "Profitability @ 1 :  7168383.208517057\n",
      "AUC@ 5 :  0.01\n",
      "MAP@ 5 :  0.010838709677419355\n",
      "Profitability @ 5 :  5017868.245961936\n",
      "AUC@ 10 :  0.0\n",
      "MAP@ 10 :  0.00903225806451613\n",
      "Profitability @ 10 :  4181556.871634952\n",
      "AUC@ 15 :  0.06\n",
      "MAP@ 15 :  0.009806451612903225\n",
      "Profitability @ 15 :  4539976.032060802\n"
     ]
    }
   ],
   "source": [
    "precision_recall = popularity_model.evaluate(test_data, cutoffs = [1, 5, 10, 15], verbose= False)\n",
    "precision_recall = precision_recall['precision_recall_by_user'].to_dataframe()\n",
    "interactions_df = interactions.to_dataframe()\n",
    "\n",
    "shuffle_count: int = 50\n",
    "test_split, train_split = np.split(interactions_df['invoiced_sales'], [int(0.2 * len(interactions_df))])\n",
    "\n",
    "results = {}\n",
    "\n",
    "for k in precision_recall['cutoff'].unique().tolist():\n",
    "    avg_profit_at_k: float = 0.0\n",
    "        \n",
    "    precision_recall_at_k = precision_recall[precision_recall['cutoff'] == k]\n",
    "    map_at_k = precision_recall_at_k['precision'].mean()\n",
    "    auc_at_k = compute_auc_at_k(precision_recall_at_k['precision'].values, precision_recall_at_k['recall'].values)\n",
    "\n",
    "    for i in range(shuffle_count):   \n",
    "        test_split = test_split.sample(frac=1)\n",
    "        avg_profit_at_k = avg_profit_at_k + (test_split * map_at_k).sum()\n",
    "\n",
    "    avg_profit_at_k = avg_profit_at_k / shuffle_count\n",
    "    \n",
    "    results[k] = [auc_at_k, map_at_k, avg_profit_at_k]\n",
    "    \n",
    "    print('AUC@', k, ': ', auc_at_k)\n",
    "    print('MAP@', k, \": \", map_at_k)\n",
    "    print('Profitability @', k, \": \", avg_profit_at_k)"
   ]
  },
  {
   "cell_type": "markdown",
   "metadata": {},
   "source": [
    "## Conclusion"
   ]
  },
  {
   "cell_type": "markdown",
   "metadata": {},
   "source": [
    "The model's conclusion has been written in the main notebook, at \"Recommendation Engine - Modeling.ipynb\""
   ]
  },
  {
   "cell_type": "markdown",
   "metadata": {},
   "source": [
    "Recall to uninstall tensorflow, turicreate, jupyter, pip3"
   ]
  }
 ],
 "metadata": {
  "kernelspec": {
   "display_name": "Python 3",
   "language": "python",
   "name": "python3"
  },
  "language_info": {
   "codemirror_mode": {
    "name": "ipython",
    "version": 3
   },
   "file_extension": ".py",
   "mimetype": "text/x-python",
   "name": "python",
   "nbconvert_exporter": "python",
   "pygments_lexer": "ipython3",
   "version": "3.8.3"
  }
 },
 "nbformat": 4,
 "nbformat_minor": 4
}
