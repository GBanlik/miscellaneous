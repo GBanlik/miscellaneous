{
 "cells": [
  {
   "cell_type": "markdown",
   "metadata": {},
   "source": [
    "# Deployment\n",
    "\n",
    "In order to deploy the model 2 steps have to be performed:\n",
    "- Dump the required data into a CSV the REST service can read\n",
    "- Start the REST service"
   ]
  },
  {
   "cell_type": "markdown",
   "metadata": {},
   "source": [
    "### Step 1 - Dump the required data into a CSV\n",
    "\n",
    "And place it in your service's folder in a **/model/ subfolder**, along with the original items information **product_master.csv**"
   ]
  },
  {
   "cell_type": "code",
   "execution_count": 1,
   "metadata": {},
   "outputs": [
    {
     "name": "stderr",
     "output_type": "stream",
     "text": [
      "C:\\Users\\Horus\\anaconda3\\lib\\site-packages\\pandas\\core\\indexing.py:671: SettingWithCopyWarning: \n",
      "A value is trying to be set on a copy of a slice from a DataFrame\n",
      "\n",
      "See the caveats in the documentation: https://pandas.pydata.org/pandas-docs/stable/user_guide/indexing.html#returning-a-view-versus-a-copy\n",
      "  self._setitem_with_indexer(indexer, value)\n"
     ]
    }
   ],
   "source": [
    "import pandas as pd\n",
    "\n",
    "clean_data: pd.DataFrame = pd.read_csv('data_clean_recommendation.csv')\n",
    "    \n",
    "grouped_data: pd.DataFrame = clean_data.drop(['month_code', 'log_date', 'is_peak_period'], axis = 1)\n",
    "grouped_data = grouped_data.groupby(grouped_data.columns.drop('volume_primary_units').tolist()).sum().reset_index()\n",
    "grouped_data.volume_primary_units.loc[grouped_data.volume_primary_units == 0] = 1\n",
    "grouped_data = grouped_data[grouped_data.volume_primary_units > 0]\n",
    "grouped_data.drop('profit_bin', axis = 1);\n",
    "\n",
    "grouped_data[['product_code', 'cac', 'volume_primary_units', 'country_code', 'cost_bin']].to_csv('base_data.csv')"
   ]
  },
  {
   "cell_type": "markdown",
   "metadata": {},
   "source": [
    "## Step 2 - Start the REST service\n",
    "\n",
    "Run the following command in a local CMD"
   ]
  },
  {
   "cell_type": "markdown",
   "metadata": {},
   "source": [
    "cd d:/your_app_dir/\n",
    "\n",
    "uvicorn main:app --reload --workers 1 --host 127.0.0.1 --port 8008"
   ]
  },
  {
   "cell_type": "markdown",
   "metadata": {},
   "source": [
    "The service is now live at \n",
    "http://http://127.0.0.1:8008/\n",
    "\n",
    "And the automated documentation and live testing can be performed at\n",
    "http://127.0.0.1:8008/docs\n",
    "\n",
    "For instance, select the route /predict, and input the following:\n",
    "{\n",
    "  \"user_id\": 12\n",
    "}\n",
    "\n",
    "which will generate product recommendations for user_id 12.\n",
    "\n",
    "Note: this process will take a long to run, as the data will be re-read on each call. In practice, a Singleton has to be created to hold the data or a celery task should be used in a NoSQL context.\n",
    "\n",
    "The output should return:\n",
    "\n",
    "Response body:\n",
    "\n",
    "{\n",
    "  \"user_id\": \"12\",\n",
    "  \"recommended_products\": [\n",
    "    \"product_code_1124\",\n",
    "    \"product_code_1008\",\n",
    "    \"product_code_12451\",\n",
    "    \"product_code_1049\",\n",
    "    \"product_code_1060\",\n",
    "    \"product_code_1230\",\n",
    "    \"product_code_1280\",\n",
    "    \"product_code_12710\",\n",
    "    \"product_code_11568\",\n",
    "    \"product_code_12393\"\n",
    "  ],\n",
    "  \"known_products\": []\n",
    "}\n",
    "\n",
    "Response headers:\n",
    "\n",
    " content-length: 265 \n",
    " content-type: application/json \n",
    " date: Tue,08 Dec 2020 22:30:09 GMT \n",
    " server: uvicorn "
   ]
  }
 ],
 "metadata": {
  "kernelspec": {
   "display_name": "Python 3",
   "language": "python",
   "name": "python3"
  },
  "language_info": {
   "codemirror_mode": {
    "name": "ipython",
    "version": 3
   },
   "file_extension": ".py",
   "mimetype": "text/x-python",
   "name": "python",
   "nbconvert_exporter": "python",
   "pygments_lexer": "ipython3",
   "version": "3.8.3"
  }
 },
 "nbformat": 4,
 "nbformat_minor": 4
}
